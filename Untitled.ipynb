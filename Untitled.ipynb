{
 "cells": [
  {
   "cell_type": "code",
   "execution_count": 1,
   "id": "92e2f68f-41ef-4594-9682-7454453144c8",
   "metadata": {},
   "outputs": [],
   "source": [
    "import torch\n",
    "import matplotlib.pyplot as plt\n",
    "from dataset import ImageDataset, ImageSequenceDataset\n",
    "from torch.utils.data import DataLoader\n",
    "\n",
    "from models.vision_autoencoder import VisionAutoencoder\n",
    "from models.recurrent import StatePredictor"
   ]
  },
  {
   "cell_type": "code",
   "execution_count": 2,
   "id": "f49079ee-40e9-40d8-84ef-53fe2ed2a88e",
   "metadata": {},
   "outputs": [],
   "source": [
    "m = VisionAutoencoder(16)\n",
    "m.load_state_dict(torch.load('ae_grayscale_deep_64_no_maxpool_no_coefloss_tanhae_grayscale_deep_64_no_maxpool_no_coefloss_tanh.pt.pt'))\n",
    "sp = StatePredictor(img_embedder=m, n_actions=6)"
   ]
  },
  {
   "cell_type": "code",
   "execution_count": 3,
   "id": "566b35b6-2ed4-48d4-8a56-ec859df9ce2c",
   "metadata": {},
   "outputs": [
    {
     "name": "stdout",
     "output_type": "stream",
     "text": [
      "torch.Size([8, 20, 1, 256, 256]) torch.Size([8, 20, 6])\n"
     ]
    }
   ],
   "source": [
    "isd = ImageSequenceDataset()\n",
    "loader = DataLoader(isd, 8, shuffle=True)\n",
    "\n",
    "sample_imgs, sample_actions = next(iter(loader))\n",
    "\n",
    "print(sample_imgs.shape, sample_actions.shape)"
   ]
  },
  {
   "cell_type": "code",
   "execution_count": 5,
   "id": "3581c217-057a-4fff-8018-2b91192726b0",
   "metadata": {},
   "outputs": [
    {
     "name": "stdout",
     "output_type": "stream",
     "text": [
      "torch.Size([8, 20, 16])\n",
      "torch.Size([8, 20, 16])\n"
     ]
    }
   ],
   "source": [
    "out, _ = sp(sample_imgs, sample_actions)\n",
    "\n",
    "print(out.shape)"
   ]
  },
  {
   "cell_type": "code",
   "execution_count": null,
   "id": "64626838-8197-48d0-bbe9-81ab9b2b0096",
   "metadata": {},
   "outputs": [],
   "source": []
  }
 ],
 "metadata": {
  "kernelspec": {
   "display_name": "Python 3 (ipykernel)",
   "language": "python",
   "name": "python3"
  },
  "language_info": {
   "codemirror_mode": {
    "name": "ipython",
    "version": 3
   },
   "file_extension": ".py",
   "mimetype": "text/x-python",
   "name": "python",
   "nbconvert_exporter": "python",
   "pygments_lexer": "ipython3",
   "version": "3.10.12"
  }
 },
 "nbformat": 4,
 "nbformat_minor": 5
}
